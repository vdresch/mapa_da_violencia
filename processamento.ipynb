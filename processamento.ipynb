{
 "cells": [
  {
   "cell_type": "code",
   "execution_count": 49,
   "metadata": {},
   "outputs": [],
   "source": [
    "import pandas as pd\n",
    "import difflib\n",
    "import fiona"
   ]
  },
  {
   "cell_type": "code",
   "execution_count": 51,
   "metadata": {},
   "outputs": [
    {
     "name": "stderr",
     "output_type": "stream",
     "text": [
      "/opt/anaconda3/lib/python3.8/site-packages/IPython/core/interactiveshell.py:3165: DtypeWarning: Columns (26,27,29,30,32,33,35,36,38,39,41,42,44,45,47,48,50,51,53,54,56,57,59,60,62,63,65,66,68,69,71,72,74,75,77,78,80,81,83,84,86,87,89,90,92,93,95,96,98,99,101,102,104,105,107,108,110,111,113,114,116,117) have mixed types.Specify dtype option on import or set low_memory=False.\n",
      "  has_raised = await self.run_ast_nodes(code_ast.body, cell_name,\n"
     ]
    }
   ],
   "source": [
    "#Lê dados\n",
    "crimes = pd.read_csv('raw_data.csv', sep=';', encoding=\"ISO-8859-1\")"
   ]
  },
  {
   "cell_type": "code",
   "execution_count": 52,
   "metadata": {},
   "outputs": [],
   "source": [
    "#Drop colunas desnecessárias\n",
    "crimes = crimes.drop(crimes.columns[10:], axis=1)\n",
    "#Drop cidades que não são Porto Alegre\n",
    "crimes =  crimes[crimes['Municipio Fato'] == 'PORTO ALEGRE']\n",
    "#Drop NA na coluna bairros. Converte coluna para lower\n",
    "crimes =  crimes[crimes['Bairro'].notna()]\n",
    "#Lower case\n",
    "crimes['Bairro'] = crimes['Bairro'].apply(lambda x: x.lower())\n",
    "#Tira acentos\n",
    "crimes['Bairro'] = crimes['Bairro'].str.normalize('NFKD').str.encode('ascii', errors='ignore').str.decode('utf-8')\n",
    "#Arruma alguns erros comuns de gramática\n",
    "crimes['Bairro'] = crimes['Bairro'].str.replace('vl', 'vila')\n",
    "crimes['Bairro'] = crimes['Bairro'].str.replace('sta', 'santa')\n",
    "#Arruma alguns bairros errados, segundo o mapa utilizado para a análise\n",
    "crimes['Bairro'] = crimes['Bairro'].str.replace('protasio alves', 'morro santana')\n",
    "crimes.loc[crimes['Bairro'] == 'centro', 'Bairro'] = 'centro historico'\n",
    "#Upper case\n",
    "crimes['Bairro'] = crimes['Bairro'].apply(lambda x: x.upper())\n"
   ]
  },
  {
   "cell_type": "code",
   "execution_count": 53,
   "metadata": {},
   "outputs": [],
   "source": [
    "porto_alegre = fiona.open(\"shapesbairros2016/Bairros_2016.shp\")\n",
    "\n",
    "bairros = list()\n",
    "\n",
    "for i in porto_alegre:\n",
    "    bairros.append(i['properties']['NOME'])"
   ]
  },
  {
   "cell_type": "code",
   "execution_count": 54,
   "metadata": {},
   "outputs": [],
   "source": [
    "crimes['Bairro'] = crimes['Bairro'].apply(lambda x: difflib.get_close_matches(x, bairros, n=1))"
   ]
  },
  {
   "cell_type": "code",
   "execution_count": 73,
   "metadata": {},
   "outputs": [],
   "source": [
    "crimes = crimes[crimes[\"Bairro\"].str.len() != 0]"
   ]
  },
  {
   "cell_type": "code",
   "execution_count": 74,
   "metadata": {},
   "outputs": [
    {
     "name": "stderr",
     "output_type": "stream",
     "text": [
      "<ipython-input-74-9098f99b7a14>:1: SettingWithCopyWarning: \n",
      "A value is trying to be set on a copy of a slice from a DataFrame.\n",
      "Try using .loc[row_indexer,col_indexer] = value instead\n",
      "\n",
      "See the caveats in the documentation: https://pandas.pydata.org/pandas-docs/stable/user_guide/indexing.html#returning-a-view-versus-a-copy\n",
      "  crimes[\"Bairro\"] = crimes[\"Bairro\"].apply(lambda x: x[0])\n"
     ]
    }
   ],
   "source": [
    "crimes[\"Bairro\"] = crimes[\"Bairro\"].apply(lambda x: x[0])"
   ]
  },
  {
   "cell_type": "code",
   "execution_count": 75,
   "metadata": {},
   "outputs": [],
   "source": [
    "crimes.to_csv('processed_data.csv')"
   ]
  }
 ],
 "metadata": {
  "kernelspec": {
   "display_name": "Python 3.9.12 ('base')",
   "language": "python",
   "name": "python3"
  },
  "language_info": {
   "codemirror_mode": {
    "name": "ipython",
    "version": 3
   },
   "file_extension": ".py",
   "mimetype": "text/x-python",
   "name": "python",
   "nbconvert_exporter": "python",
   "pygments_lexer": "ipython3",
   "version": "3.9.12"
  },
  "orig_nbformat": 4,
  "vscode": {
   "interpreter": {
    "hash": "fa53d711206d24ac5cfd27fde3dd49e418504a5494e342f02f4a102d26692be3"
   }
  }
 },
 "nbformat": 4,
 "nbformat_minor": 2
}
